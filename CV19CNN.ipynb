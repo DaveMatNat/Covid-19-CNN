{
  "cells": [
    {
      "cell_type": "markdown",
      "metadata": {
        "id": "fegG-GJ3EXyR"
      },
      "source": [
        "\n",
        "\n",
        "```\n",
        "`# This is formatted as code`\n",
        "```\n",
        "\n",
        "ขั้นตอนการทำงาน (Pipe line)\n",
        "1. เตรียมข้อมูล (Dataset prepare)\n",
        "2. สร้างโมเดล  (Model create)\n",
        "3. สอนโมเดล  (Model training)\n",
        "4. ทดสอบโมเดล (Model Evaluation)"
      ]
    },
    {
      "cell_type": "markdown",
      "metadata": {
        "id": "uBTHaRxeE3TV"
      },
      "source": [
        "#1. เตรียมข้อมูล (Dataset prepare)"
      ]
    },
    {
      "cell_type": "code",
      "execution_count": 1,
      "metadata": {
        "colab": {
          "base_uri": "https://localhost:8080/"
        },
        "id": "f3gNRJrzsN2q",
        "outputId": "d37e9d6c-c7be-4f9d-f5d5-9437be6f82b9"
      },
      "outputs": [
        {
          "output_type": "stream",
          "name": "stdout",
          "text": [
            "/usr/local/lib/python3.10/dist-packages/gdown/__main__.py:140: FutureWarning: Option `--id` was deprecated in version 4.3.1 and will be removed in 5.0. You don't need to pass it anymore to use a file ID.\n",
            "  warnings.warn(\n",
            "Downloading...\n",
            "From (original): https://drive.google.com/uc?id=16xvx3v5soWmJ9f9FYbCVcLWMNZfj097j\n",
            "From (redirected): https://drive.google.com/uc?id=16xvx3v5soWmJ9f9FYbCVcLWMNZfj097j&confirm=t&uuid=5bc42405-8c28-40ab-a1ea-355b5b680e7c\n",
            "To: /content/cov19.zip\n",
            "100% 314M/314M [00:01<00:00, 175MB/s]\n"
          ]
        }
      ],
      "source": [
        "!gdown --id 16xvx3v5soWmJ9f9FYbCVcLWMNZfj097j"
      ]
    },
    {
      "cell_type": "code",
      "execution_count": 2,
      "metadata": {
        "id": "6-B0Ao5qWz9e"
      },
      "outputs": [],
      "source": [
        "!unzip -qq cov19.zip"
      ]
    },
    {
      "cell_type": "markdown",
      "metadata": {
        "id": "6ESCNgfUSuUm"
      },
      "source": [
        "###อ่านไฟล์ในโฟลเดอร์ covid และ normal"
      ]
    },
    {
      "cell_type": "code",
      "execution_count": 3,
      "metadata": {
        "colab": {
          "base_uri": "https://localhost:8080/",
          "height": 35
        },
        "id": "UNqbv_FKsoa1",
        "outputId": "ece81a14-6c45-41fe-db04-841e8a127611"
      },
      "outputs": [
        {
          "output_type": "execute_result",
          "data": {
            "text/plain": [
              "\"\\ndir1 = os.listdir('train/covid/')\\ndir2 = os.listdir('train/normal/')\\n\""
            ],
            "application/vnd.google.colaboratory.intrinsic+json": {
              "type": "string"
            }
          },
          "metadata": {},
          "execution_count": 3
        }
      ],
      "source": [
        "import os\n",
        "import cv2\n",
        "import numpy as np\n",
        "import matplotlib.pyplot as plt\n",
        "from tqdm import tqdm\n",
        "from os.path import isfile, join\n",
        "\"\"\"\n",
        "dir1 = os.listdir('train/covid/')\n",
        "dir2 = os.listdir('train/normal/')\n",
        "\"\"\""
      ]
    },
    {
      "cell_type": "code",
      "execution_count": null,
      "metadata": {
        "id": "E2ttJOzDaleV"
      },
      "outputs": [],
      "source": [
        "trainpath = 'train/'\n",
        "alltrainimg = []\n",
        "trainImg = [trainpath+f for f in os.listdir(trainpath) if os.listdir(join(trainpath, f))]\n",
        "for imagePath in (trainImg):\n",
        "    for item in (os.listdir(imagePath)):\n",
        "        file = os.path.join(imagePath, item)\n",
        "        alltrainimg.append(file)\n",
        "alltrainimg"
      ]
    },
    {
      "cell_type": "code",
      "execution_count": null,
      "metadata": {
        "id": "T3WbJgpPTqye"
      },
      "outputs": [],
      "source": [
        "testim = cv2.imread('/content/train/covid/COVID-1.png')\n",
        "testim = cv2.cvtColor(testim , cv2.COLOR_BGR2RGB)\n",
        "testim=cv2.resize(testim , (400,400))\n",
        "plt.imshow(testim)"
      ]
    },
    {
      "cell_type": "code",
      "execution_count": null,
      "metadata": {
        "id": "ZxoLi1k-tO80"
      },
      "outputs": [],
      "source": [
        "raw = []\n",
        "label = []\n",
        "for f in tqdm(alltrainimg):\n",
        "  clss = f.split('/')[1]\n",
        "  img = cv2.imread(f)\n",
        "  img = cv2.resize(img ,(224,224))\n",
        "\n",
        "  raw.append(img)\n",
        "  if clss == 'normal':\n",
        "    label.append(0)\n",
        "  else:\n",
        "    label.append(1)\n"
      ]
    },
    {
      "cell_type": "code",
      "execution_count": null,
      "metadata": {
        "id": "dX895s08Z5Ip"
      },
      "outputs": [],
      "source": [
        "len(raw)"
      ]
    },
    {
      "cell_type": "code",
      "execution_count": 8,
      "metadata": {
        "id": "yMWGTyxotPWu"
      },
      "outputs": [],
      "source": [
        "X = np.array(raw)\n",
        "y = np.array(label)"
      ]
    },
    {
      "cell_type": "code",
      "execution_count": 9,
      "metadata": {
        "id": "ZqFZlUFwu9qk"
      },
      "outputs": [],
      "source": [
        "X = X.astype('float32')\n",
        "X /= 255"
      ]
    },
    {
      "cell_type": "code",
      "execution_count": null,
      "metadata": {
        "id": "YP41akEyvS00"
      },
      "outputs": [],
      "source": [
        "X.shape , y.shape"
      ]
    },
    {
      "cell_type": "code",
      "execution_count": 11,
      "metadata": {
        "id": "1tEmN_sJXAM5"
      },
      "outputs": [],
      "source": [
        "from sklearn.model_selection import train_test_split\n",
        "x_train, x_test, y_train, y_test = train_test_split(X,y, train_size=0.8, random_state=42)"
      ]
    },
    {
      "cell_type": "code",
      "execution_count": null,
      "metadata": {
        "id": "b_ymkQ4L_Kvo"
      },
      "outputs": [],
      "source": [
        "x_train.shape, x_test.shape, y_train.shape, y_test.shape"
      ]
    },
    {
      "cell_type": "markdown",
      "metadata": {
        "id": "_4KNu3ziTWAc"
      },
      "source": [
        "#2. สร้างโมเดล (Model create)"
      ]
    },
    {
      "cell_type": "code",
      "execution_count": 13,
      "metadata": {
        "id": "ps3_uOXfwb9o"
      },
      "outputs": [],
      "source": [
        "import tensorflow as tf\n",
        "import keras\n",
        "from keras.models import Sequential\n",
        "from keras.layers import Dense, Dropout, Activation, Flatten\n",
        "from keras.layers import Conv2D, MaxPooling2D\n"
      ]
    },
    {
      "cell_type": "code",
      "execution_count": null,
      "metadata": {
        "id": "OGAeCcBVb4hU"
      },
      "outputs": [],
      "source": [
        "base_model = tf.keras.applications.MobileNetV2(input_shape=(224,224,3),\n",
        "                                                   include_top=False,\n",
        "                                                   weights='imagenet')\n",
        "base_model.trainable = False\n",
        "num_classes = 2\n",
        "\n",
        "modelG = Sequential([\n",
        "        base_model,\n",
        "\n",
        "        Conv2D(128, 3, activation='relu'),\n",
        "        Dense(16),\n",
        "        Flatten(),\n",
        "        Dense(num_classes, activation='softmax')\n",
        "    ])\n"
      ]
    },
    {
      "cell_type": "code",
      "execution_count": null,
      "metadata": {
        "id": "ScGviNVmEIGo"
      },
      "outputs": [],
      "source": [
        "modelG.summary()"
      ]
    },
    {
      "cell_type": "code",
      "execution_count": 16,
      "metadata": {
        "id": "R-OO-FIXEKza"
      },
      "outputs": [],
      "source": [
        "modelG.compile(optimizer=tf.keras.optimizers.Adam(learning_rate=0.001),\n",
        "              loss='sparse_categorical_crossentropy',\n",
        "              metrics= ['accuracy'])\n",
        "batch_size = 32\n",
        "epochs = 1"
      ]
    },
    {
      "cell_type": "code",
      "execution_count": null,
      "metadata": {
        "id": "x78pV5w5XZ6z"
      },
      "outputs": [],
      "source": [
        "history = modelG.fit(x_train, y_train ,batch_size=batch_size, epochs=epochs ,validation_data=(x_test, y_test))"
      ]
    },
    {
      "cell_type": "code",
      "execution_count": null,
      "metadata": {
        "id": "_JbalTDfavFE"
      },
      "outputs": [],
      "source": [
        "import matplotlib.pyplot as plt\n",
        "plt.figure(figsize=(10,4))\n",
        "plt.subplot(121),\n",
        "plt.title('model accuracy');plt.ylabel('accuracy');plt.xlabel('epoch');plt.legend(['train', 'validation'], loc='upper left')\n",
        "plt.plot(history.history['accuracy']);plt.plot(history.history['val_accuracy'])\n",
        "\n",
        "plt.subplot(122)\n",
        "plt.title('model loss')\n",
        "plt.ylabel('loss')\n",
        "plt.xlabel('epoch')\n",
        "plt.legend(['train', 'validation'], loc='upper left')\n",
        "plt.plot(history.history['loss']);plt.plot(history.history['val_loss'])"
      ]
    },
    {
      "cell_type": "code",
      "execution_count": null,
      "metadata": {
        "id": "m9mx4Qw8ayPj"
      },
      "outputs": [],
      "source": [
        "from os import listdir\n",
        "width = 224\n",
        "testpath = 'test/'\n",
        "testImg = [testpath+f for f in listdir(testpath)]\n",
        "rimg = []\n",
        "y_true = []\n",
        "y_predict = []\n",
        "for imagePath in (testImg):\n",
        "    for i,item in enumerate(listdir(imagePath)):\n",
        "        file = join(imagePath, item)\n",
        "        if file[-1] =='g':\n",
        "          #print(file.split('/'))\n",
        "          if file.split('/')[1] == 'normal':\n",
        "            y_true.append(0)\n",
        "          else:\n",
        "            y_true.append(1)\n",
        "          imgori = cv2.imread(file)\n",
        "          imgori = cv2.cvtColor(imgori , cv2.COLOR_BGR2RGB)\n",
        "          img = cv2.resize(imgori ,(width,width))\n",
        "          rimg = np.array(img)\n",
        "          rimg = rimg.astype('float32')\n",
        "          rimg /= 255\n",
        "          rimg = np.reshape(rimg ,(1,224,224,3))\n",
        "          predict = modelG.predict(rimg)\n",
        "          label = ['normal','covid']\n",
        "          print(f\"Pred:{np.argmax(predict)}\")\n",
        "          result = label[np.argmax(predict)]\n",
        "          y_predict.append(np.argmax(predict))\n",
        "          plt.title(item)\n",
        "          cv2.putText(imgori, str(result), (50,50), cv2.FONT_HERSHEY_SIMPLEX, 2, (255,0,0), 2 )\n",
        "\n",
        "          plt.imshow(imgori)\n",
        "          plt.show()"
      ]
    },
    {
      "cell_type": "code",
      "execution_count": null,
      "metadata": {
        "id": "sPEF-lM7bSZf"
      },
      "outputs": [],
      "source": [
        "\n",
        "#y_true = [np.argmax(i) for i in y_true]\n",
        "y_true\n"
      ]
    },
    {
      "cell_type": "code",
      "execution_count": null,
      "metadata": {
        "id": "8i_oxoeTbZ1E"
      },
      "outputs": [],
      "source": [
        "y_predict"
      ]
    },
    {
      "cell_type": "code",
      "execution_count": null,
      "metadata": {
        "id": "fyAgH9oPF1X6"
      },
      "outputs": [],
      "source": [
        "correct = 0\n",
        "for i in range(len(y_true)):\n",
        "  if y_true[i] == y_predict[i]:\n",
        "    correct += 1\n",
        "\n",
        "print(f\"Accuracy: {(correct/len(y_true))*100}%\")"
      ]
    },
    {
      "cell_type": "code",
      "execution_count": null,
      "metadata": {
        "id": "nYJ2Gb7qauH-"
      },
      "outputs": [],
      "source": [
        "from sklearn.metrics import classification_report\n",
        "clss = ['normal','covid']\n",
        "classreport = classification_report(y_true ,y_predict, target_names=clss )\n",
        "print(classreport)"
      ]
    },
    {
      "cell_type": "code",
      "execution_count": null,
      "metadata": {
        "id": "n6VH6jvYNY9F"
      },
      "outputs": [],
      "source": [
        "import seaborn as sb\n",
        "from sklearn.metrics import confusion_matrix\n",
        "\n",
        "cf = confusion_matrix(y_true , y_predict)\n",
        "plt = sb.heatmap(cf, annot=True)\n",
        "plt.set_title('Confusion Matrix');\n",
        "plt.set_xlabel('Predicted Values')\n",
        "plt.set_ylabel('Actual Values ')\n",
        "\n",
        "plt.xaxis.set_ticklabels(clss)\n",
        "plt.yaxis.set_ticklabels(clss)"
      ]
    }
  ],
  "metadata": {
    "accelerator": "TPU",
    "colab": {
      "provenance": [],
      "gpuType": "V28"
    },
    "kernelspec": {
      "display_name": "Python 3",
      "name": "python3"
    },
    "language_info": {
      "name": "python"
    }
  },
  "nbformat": 4,
  "nbformat_minor": 0
}